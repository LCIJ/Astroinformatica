{
 "cells": [
  {
   "cell_type": "code",
   "execution_count": 43,
   "id": "95877a13-04e9-47ab-9a76-4e9ab67029a7",
   "metadata": {},
   "outputs": [],
   "source": [
    "import pandas as pd\n",
    "import numpy as np\n",
    "import matplotlib.pyplot as plt"
   ]
  },
  {
   "cell_type": "code",
   "execution_count": 44,
   "id": "afecf248-b90f-4ece-9a94-4bb6e2303f54",
   "metadata": {},
   "outputs": [
    {
     "data": {
      "text/html": [
       "<div>\n",
       "<style scoped>\n",
       "    .dataframe tbody tr th:only-of-type {\n",
       "        vertical-align: middle;\n",
       "    }\n",
       "\n",
       "    .dataframe tbody tr th {\n",
       "        vertical-align: top;\n",
       "    }\n",
       "\n",
       "    .dataframe thead th {\n",
       "        text-align: right;\n",
       "    }\n",
       "</style>\n",
       "<table border=\"1\" class=\"dataframe\">\n",
       "  <thead>\n",
       "    <tr style=\"text-align: right;\">\n",
       "      <th></th>\n",
       "      <th>ID</th>\n",
       "      <th>log_re_arcsec</th>\n",
       "      <th>err_log_re_arcsec</th>\n",
       "      <th>log_re_pc</th>\n",
       "      <th>err_log_re_pc</th>\n",
       "      <th>m</th>\n",
       "      <th>err_m</th>\n",
       "      <th>M</th>\n",
       "      <th>err_M</th>\n",
       "      <th>mu</th>\n",
       "      <th>err_mu</th>\n",
       "      <th>ellip</th>\n",
       "      <th>err_elip</th>\n",
       "      <th>log_sigma</th>\n",
       "      <th>err_log_sigma</th>\n",
       "    </tr>\n",
       "  </thead>\n",
       "  <tbody>\n",
       "    <tr>\n",
       "      <th>0</th>\n",
       "      <td>NGC-57</td>\n",
       "      <td>1.29</td>\n",
       "      <td>0.02</td>\n",
       "      <td>3.70</td>\n",
       "      <td>0.02</td>\n",
       "      <td>11.86</td>\n",
       "      <td>0.44</td>\n",
       "      <td>-21.76</td>\n",
       "      <td>0.44</td>\n",
       "      <td>19.28</td>\n",
       "      <td>0.47</td>\n",
       "      <td>0.17</td>\n",
       "      <td>0.02</td>\n",
       "      <td>2.502</td>\n",
       "      <td>0.025</td>\n",
       "    </tr>\n",
       "    <tr>\n",
       "      <th>1</th>\n",
       "      <td>NGC-97</td>\n",
       "      <td>1.18</td>\n",
       "      <td>0.01</td>\n",
       "      <td>3.54</td>\n",
       "      <td>0.01</td>\n",
       "      <td>12.44</td>\n",
       "      <td>0.16</td>\n",
       "      <td>-20.92</td>\n",
       "      <td>0.16</td>\n",
       "      <td>19.55</td>\n",
       "      <td>0.17</td>\n",
       "      <td>0.06</td>\n",
       "      <td>0.02</td>\n",
       "      <td>2.086</td>\n",
       "      <td>0.117</td>\n",
       "    </tr>\n",
       "    <tr>\n",
       "      <th>2</th>\n",
       "      <td>NGC-194</td>\n",
       "      <td>1.40</td>\n",
       "      <td>0.01</td>\n",
       "      <td>3.79</td>\n",
       "      <td>0.01</td>\n",
       "      <td>11.94</td>\n",
       "      <td>0.06</td>\n",
       "      <td>-21.55</td>\n",
       "      <td>0.06</td>\n",
       "      <td>20.14</td>\n",
       "      <td>0.08</td>\n",
       "      <td>0.11</td>\n",
       "      <td>0.02</td>\n",
       "      <td>2.332</td>\n",
       "      <td>0.051</td>\n",
       "    </tr>\n",
       "    <tr>\n",
       "      <th>3</th>\n",
       "      <td>NGC-221</td>\n",
       "      <td>1.65</td>\n",
       "      <td>0.01</td>\n",
       "      <td>2.16</td>\n",
       "      <td>0.05</td>\n",
       "      <td>7.89</td>\n",
       "      <td>0.21</td>\n",
       "      <td>-16.21</td>\n",
       "      <td>0.31</td>\n",
       "      <td>17.27</td>\n",
       "      <td>0.22</td>\n",
       "      <td>0.17</td>\n",
       "      <td>0.02</td>\n",
       "      <td>1.898</td>\n",
       "      <td>0.055</td>\n",
       "    </tr>\n",
       "    <tr>\n",
       "      <th>4</th>\n",
       "      <td>NGC-410</td>\n",
       "      <td>1.62</td>\n",
       "      <td>0.01</td>\n",
       "      <td>4.03</td>\n",
       "      <td>0.01</td>\n",
       "      <td>11.26</td>\n",
       "      <td>0.30</td>\n",
       "      <td>-22.36</td>\n",
       "      <td>0.30</td>\n",
       "      <td>20.37</td>\n",
       "      <td>0.32</td>\n",
       "      <td>0.26</td>\n",
       "      <td>0.02</td>\n",
       "      <td>2.458</td>\n",
       "      <td>0.023</td>\n",
       "    </tr>\n",
       "    <tr>\n",
       "      <th>...</th>\n",
       "      <td>...</td>\n",
       "      <td>...</td>\n",
       "      <td>...</td>\n",
       "      <td>...</td>\n",
       "      <td>...</td>\n",
       "      <td>...</td>\n",
       "      <td>...</td>\n",
       "      <td>...</td>\n",
       "      <td>...</td>\n",
       "      <td>...</td>\n",
       "      <td>...</td>\n",
       "      <td>...</td>\n",
       "      <td>...</td>\n",
       "      <td>...</td>\n",
       "      <td>...</td>\n",
       "    </tr>\n",
       "    <tr>\n",
       "      <th>101</th>\n",
       "      <td>NGC-7785</td>\n",
       "      <td>1.55</td>\n",
       "      <td>0.02</td>\n",
       "      <td>3.80</td>\n",
       "      <td>0.02</td>\n",
       "      <td>11.23</td>\n",
       "      <td>0.17</td>\n",
       "      <td>-21.57</td>\n",
       "      <td>0.17</td>\n",
       "      <td>19.65</td>\n",
       "      <td>0.21</td>\n",
       "      <td>0.44</td>\n",
       "      <td>0.01</td>\n",
       "      <td>2.382</td>\n",
       "      <td>0.045</td>\n",
       "    </tr>\n",
       "    <tr>\n",
       "      <th>102</th>\n",
       "      <td>IC-179</td>\n",
       "      <td>1.15</td>\n",
       "      <td>0.01</td>\n",
       "      <td>3.47</td>\n",
       "      <td>0.02</td>\n",
       "      <td>12.45</td>\n",
       "      <td>0.14</td>\n",
       "      <td>-20.73</td>\n",
       "      <td>0.14</td>\n",
       "      <td>19.28</td>\n",
       "      <td>0.17</td>\n",
       "      <td>0.16</td>\n",
       "      <td>0.02</td>\n",
       "      <td>2.447</td>\n",
       "      <td>0.030</td>\n",
       "    </tr>\n",
       "    <tr>\n",
       "      <th>103</th>\n",
       "      <td>IC-962</td>\n",
       "      <td>0.80</td>\n",
       "      <td>0.04</td>\n",
       "      <td>3.31</td>\n",
       "      <td>0.04</td>\n",
       "      <td>13.24</td>\n",
       "      <td>0.22</td>\n",
       "      <td>-20.86</td>\n",
       "      <td>0.22</td>\n",
       "      <td>18.31</td>\n",
       "      <td>0.28</td>\n",
       "      <td>0.10</td>\n",
       "      <td>0.01</td>\n",
       "      <td>2.185</td>\n",
       "      <td>0.086</td>\n",
       "    </tr>\n",
       "    <tr>\n",
       "      <th>104</th>\n",
       "      <td>IC-1211</td>\n",
       "      <td>1.10</td>\n",
       "      <td>0.02</td>\n",
       "      <td>3.56</td>\n",
       "      <td>0.02</td>\n",
       "      <td>12.75</td>\n",
       "      <td>0.13</td>\n",
       "      <td>-21.11</td>\n",
       "      <td>0.13</td>\n",
       "      <td>19.33</td>\n",
       "      <td>0.17</td>\n",
       "      <td>0.13</td>\n",
       "      <td>0.01</td>\n",
       "      <td>2.212</td>\n",
       "      <td>0.123</td>\n",
       "    </tr>\n",
       "    <tr>\n",
       "      <th>105</th>\n",
       "      <td>IC-4051</td>\n",
       "      <td>0.88</td>\n",
       "      <td>0.02</td>\n",
       "      <td>3.30</td>\n",
       "      <td>0.02</td>\n",
       "      <td>14.11</td>\n",
       "      <td>0.18</td>\n",
       "      <td>-19.58</td>\n",
       "      <td>0.18</td>\n",
       "      <td>19.56</td>\n",
       "      <td>0.21</td>\n",
       "      <td>0.17</td>\n",
       "      <td>0.02</td>\n",
       "      <td>2.362</td>\n",
       "      <td>0.017</td>\n",
       "    </tr>\n",
       "  </tbody>\n",
       "</table>\n",
       "<p>106 rows × 15 columns</p>\n",
       "</div>"
      ],
      "text/plain": [
       "           ID  log_re_arcsec  err_log_re_arcsec  log_re_pc  err_log_re_pc  \\\n",
       "0      NGC-57           1.29               0.02       3.70           0.02   \n",
       "1      NGC-97           1.18               0.01       3.54           0.01   \n",
       "2     NGC-194           1.40               0.01       3.79           0.01   \n",
       "3     NGC-221           1.65               0.01       2.16           0.05   \n",
       "4     NGC-410           1.62               0.01       4.03           0.01   \n",
       "..        ...            ...                ...        ...            ...   \n",
       "101  NGC-7785           1.55               0.02       3.80           0.02   \n",
       "102    IC-179           1.15               0.01       3.47           0.02   \n",
       "103    IC-962           0.80               0.04       3.31           0.04   \n",
       "104   IC-1211           1.10               0.02       3.56           0.02   \n",
       "105   IC-4051           0.88               0.02       3.30           0.02   \n",
       "\n",
       "         m  err_m      M  err_M     mu  err_mu  ellip  err_elip  log_sigma  \\\n",
       "0    11.86   0.44 -21.76   0.44  19.28    0.47   0.17      0.02      2.502   \n",
       "1    12.44   0.16 -20.92   0.16  19.55    0.17   0.06      0.02      2.086   \n",
       "2    11.94   0.06 -21.55   0.06  20.14    0.08   0.11      0.02      2.332   \n",
       "3     7.89   0.21 -16.21   0.31  17.27    0.22   0.17      0.02      1.898   \n",
       "4    11.26   0.30 -22.36   0.30  20.37    0.32   0.26      0.02      2.458   \n",
       "..     ...    ...    ...    ...    ...     ...    ...       ...        ...   \n",
       "101  11.23   0.17 -21.57   0.17  19.65    0.21   0.44      0.01      2.382   \n",
       "102  12.45   0.14 -20.73   0.14  19.28    0.17   0.16      0.02      2.447   \n",
       "103  13.24   0.22 -20.86   0.22  18.31    0.28   0.10      0.01      2.185   \n",
       "104  12.75   0.13 -21.11   0.13  19.33    0.17   0.13      0.01      2.212   \n",
       "105  14.11   0.18 -19.58   0.18  19.56    0.21   0.17      0.02      2.362   \n",
       "\n",
       "     err_log_sigma  \n",
       "0            0.025  \n",
       "1            0.117  \n",
       "2            0.051  \n",
       "3            0.055  \n",
       "4            0.023  \n",
       "..             ...  \n",
       "101          0.045  \n",
       "102          0.030  \n",
       "103          0.086  \n",
       "104          0.123  \n",
       "105          0.017  \n",
       "\n",
       "[106 rows x 15 columns]"
      ]
     },
     "execution_count": 44,
     "metadata": {},
     "output_type": "execute_result"
    }
   ],
   "source": [
    "df = pd.read_csv(\"fundamental_plane.csv\")\n",
    "df"
   ]
  },
  {
   "cell_type": "code",
   "execution_count": 45,
   "id": "6f57c392-41e1-465a-89b7-100311ee8f84",
   "metadata": {},
   "outputs": [],
   "source": [
    "from sklearn.model_selection import train_test_split\n",
    "from sklearn import linear_model\n",
    "from sklearn import metrics"
   ]
  },
  {
   "cell_type": "code",
   "execution_count": 76,
   "id": "e3e5a99e-4eeb-430d-95e1-51bfd591f95e",
   "metadata": {},
   "outputs": [],
   "source": [
    "log_sigma = df['log_sigma']  # 1.4 * x1\n",
    "mu = df['mu']  # 0.36 * x2\n",
    "log_sigma_mu = df[['log_sigma', 'mu']]\n",
    "\n",
    "log_re = df['log_re_pc']  # y\n",
    "err_log_re = df['err_log_re_pc']  #err_y.to_numpy()"
   ]
  },
  {
   "cell_type": "code",
   "execution_count": 122,
   "id": "b75e248d-95be-4ffa-8963-dcdd7b51356f",
   "metadata": {},
   "outputs": [],
   "source": [
    "# creating train and test sets \n",
    "log_sigma_mu_train, log_sigma_mu_test, log_re_train, log_re_test = train_test_split( \n",
    "    log_sigma_mu, log_re, test_size=0.3, random_state=10)\n"
   ]
  },
  {
   "cell_type": "code",
   "execution_count": 123,
   "id": "1720415c-9574-4399-b0db-5cc923781251",
   "metadata": {},
   "outputs": [
    {
     "data": {
      "text/html": [
       "<style>#sk-container-id-8 {color: black;}#sk-container-id-8 pre{padding: 0;}#sk-container-id-8 div.sk-toggleable {background-color: white;}#sk-container-id-8 label.sk-toggleable__label {cursor: pointer;display: block;width: 100%;margin-bottom: 0;padding: 0.3em;box-sizing: border-box;text-align: center;}#sk-container-id-8 label.sk-toggleable__label-arrow:before {content: \"▸\";float: left;margin-right: 0.25em;color: #696969;}#sk-container-id-8 label.sk-toggleable__label-arrow:hover:before {color: black;}#sk-container-id-8 div.sk-estimator:hover label.sk-toggleable__label-arrow:before {color: black;}#sk-container-id-8 div.sk-toggleable__content {max-height: 0;max-width: 0;overflow: hidden;text-align: left;background-color: #f0f8ff;}#sk-container-id-8 div.sk-toggleable__content pre {margin: 0.2em;color: black;border-radius: 0.25em;background-color: #f0f8ff;}#sk-container-id-8 input.sk-toggleable__control:checked~div.sk-toggleable__content {max-height: 200px;max-width: 100%;overflow: auto;}#sk-container-id-8 input.sk-toggleable__control:checked~label.sk-toggleable__label-arrow:before {content: \"▾\";}#sk-container-id-8 div.sk-estimator input.sk-toggleable__control:checked~label.sk-toggleable__label {background-color: #d4ebff;}#sk-container-id-8 div.sk-label input.sk-toggleable__control:checked~label.sk-toggleable__label {background-color: #d4ebff;}#sk-container-id-8 input.sk-hidden--visually {border: 0;clip: rect(1px 1px 1px 1px);clip: rect(1px, 1px, 1px, 1px);height: 1px;margin: -1px;overflow: hidden;padding: 0;position: absolute;width: 1px;}#sk-container-id-8 div.sk-estimator {font-family: monospace;background-color: #f0f8ff;border: 1px dotted black;border-radius: 0.25em;box-sizing: border-box;margin-bottom: 0.5em;}#sk-container-id-8 div.sk-estimator:hover {background-color: #d4ebff;}#sk-container-id-8 div.sk-parallel-item::after {content: \"\";width: 100%;border-bottom: 1px solid gray;flex-grow: 1;}#sk-container-id-8 div.sk-label:hover label.sk-toggleable__label {background-color: #d4ebff;}#sk-container-id-8 div.sk-serial::before {content: \"\";position: absolute;border-left: 1px solid gray;box-sizing: border-box;top: 0;bottom: 0;left: 50%;z-index: 0;}#sk-container-id-8 div.sk-serial {display: flex;flex-direction: column;align-items: center;background-color: white;padding-right: 0.2em;padding-left: 0.2em;position: relative;}#sk-container-id-8 div.sk-item {position: relative;z-index: 1;}#sk-container-id-8 div.sk-parallel {display: flex;align-items: stretch;justify-content: center;background-color: white;position: relative;}#sk-container-id-8 div.sk-item::before, #sk-container-id-8 div.sk-parallel-item::before {content: \"\";position: absolute;border-left: 1px solid gray;box-sizing: border-box;top: 0;bottom: 0;left: 50%;z-index: -1;}#sk-container-id-8 div.sk-parallel-item {display: flex;flex-direction: column;z-index: 1;position: relative;background-color: white;}#sk-container-id-8 div.sk-parallel-item:first-child::after {align-self: flex-end;width: 50%;}#sk-container-id-8 div.sk-parallel-item:last-child::after {align-self: flex-start;width: 50%;}#sk-container-id-8 div.sk-parallel-item:only-child::after {width: 0;}#sk-container-id-8 div.sk-dashed-wrapped {border: 1px dashed gray;margin: 0 0.4em 0.5em 0.4em;box-sizing: border-box;padding-bottom: 0.4em;background-color: white;}#sk-container-id-8 div.sk-label label {font-family: monospace;font-weight: bold;display: inline-block;line-height: 1.2em;}#sk-container-id-8 div.sk-label-container {text-align: center;}#sk-container-id-8 div.sk-container {/* jupyter's `normalize.less` sets `[hidden] { display: none; }` but bootstrap.min.css set `[hidden] { display: none !important; }` so we also need the `!important` here to be able to override the default hidden behavior on the sphinx rendered scikit-learn.org. See: https://github.com/scikit-learn/scikit-learn/issues/21755 */display: inline-block !important;position: relative;}#sk-container-id-8 div.sk-text-repr-fallback {display: none;}</style><div id=\"sk-container-id-8\" class=\"sk-top-container\"><div class=\"sk-text-repr-fallback\"><pre>LinearRegression()</pre><b>In a Jupyter environment, please rerun this cell to show the HTML representation or trust the notebook. <br />On GitHub, the HTML representation is unable to render, please try loading this page with nbviewer.org.</b></div><div class=\"sk-container\" hidden><div class=\"sk-item\"><div class=\"sk-estimator sk-toggleable\"><input class=\"sk-toggleable__control sk-hidden--visually\" id=\"sk-estimator-id-8\" type=\"checkbox\" checked><label for=\"sk-estimator-id-8\" class=\"sk-toggleable__label sk-toggleable__label-arrow\">LinearRegression</label><div class=\"sk-toggleable__content\"><pre>LinearRegression()</pre></div></div></div></div></div>"
      ],
      "text/plain": [
       "LinearRegression()"
      ]
     },
     "execution_count": 123,
     "metadata": {},
     "output_type": "execute_result"
    }
   ],
   "source": [
    "# Create linear regression object\n",
    "lin = linear_model.LinearRegression()\n",
    "\n",
    "# Train the model using the training sets\n",
    "lin.fit(log_sigma_mu_train, log_re_train)"
   ]
  },
  {
   "cell_type": "code",
   "execution_count": 124,
   "id": "a16f0eae-760a-4cb5-b797-a936decf529b",
   "metadata": {},
   "outputs": [
    {
     "name": "stdout",
     "output_type": "stream",
     "text": [
      "Coefficients: \n",
      " [1.08462841 0.28830677]\n"
     ]
    }
   ],
   "source": [
    "# Make predictions using the testing set\n",
    "log_re_pred = lin.predict(log_sigma_mu_test)\n",
    "#log_re_pred = pd.Series(log_re_pred) \n",
    "\n",
    "# The coefficients\n",
    "print('Coefficients: \\n', lin.coef_)\n",
    "A, B = lin.coef_"
   ]
  },
  {
   "cell_type": "code",
   "execution_count": 125,
   "id": "25013b45-7782-427d-b874-0ad91471f160",
   "metadata": {},
   "outputs": [
    {
     "name": "stdout",
     "output_type": "stream",
     "text": [
      "mean_squared_error :  0.0251085826013903\n",
      "mean_absolute_error :  0.11202247372093456\n",
      "Mean squared error (MSE): 0.03\n",
      "Variance score (coefficient of determination, R2): 0.89\n"
     ]
    }
   ],
   "source": [
    "# model evaluation \n",
    "print( \n",
    "  'mean_squared_error : ', metrics.mean_squared_error(log_re_test, log_re_pred)) \n",
    "print( \n",
    "  'mean_absolute_error : ', metrics.mean_absolute_error(log_re_test, log_re_pred)) \n",
    "\n",
    "\n",
    "# The mean squared error\n",
    "print(\"Mean squared error (MSE): %.2f\"\n",
    "      % metrics.mean_squared_error(log_re_test, log_re_pred))\n",
    "# Explained variance score: 1 is perfect prediction\n",
    "print('Variance score (coefficient of determination, R2): %.2f' % metrics.r2_score(log_re_test, log_re_pred))"
   ]
  },
  {
   "cell_type": "code",
   "execution_count": 126,
   "id": "8f4470c1-6306-4549-97eb-6d2f1e8c5744",
   "metadata": {},
   "outputs": [],
   "source": [
    "log_sigma_mu_train_comb = A * log_sigma_mu_train['log_sigma'] + B * log_sigma_mu_train['mu']\n",
    "log_sigma_mu_test_comb = A * log_sigma_mu_test['log_sigma'] + B * log_sigma_mu_test['mu']"
   ]
  },
  {
   "cell_type": "code",
   "execution_count": 127,
   "id": "8e2abb27-ec3e-4453-a231-d5e9a0a569ed",
   "metadata": {},
   "outputs": [
    {
     "data": {
      "text/plain": [
       "<matplotlib.legend.Legend at 0x7a409b3d5ac0>"
      ]
     },
     "execution_count": 127,
     "metadata": {},
     "output_type": "execute_result"
    },
    {
     "data": {
      "image/png": "[encoded data removed]",
      "text/plain": [
       "<Figure size 1100x700 with 1 Axes>"
      ]
     },
     "metadata": {},
     "output_type": "display_data"
    }
   ],
   "source": [
    "fig, ax = plt.subplots(figsize = (11, 7))\n",
    "\n",
    "ax.scatter(log_sigma_mu_test_comb, log_re_test, c='r',label = 'Test subset')\n",
    "ax.scatter(log_sigma_mu_train_comb, log_re_train, c='b',alpha=0.5, label = 'Train subset')\n",
    "ax.plot(log_sigma_mu_test_comb, log_re_pred, color='k', linewidth=3, label='Linear')\n",
    "ax.set_xlabel(\"1.4*log_sigma + 0.36*mu\")\n",
    "ax.set_ylabel(\"log_re\")\n",
    "plt.title('Linear Regression', size=20)\n",
    "plt.grid()\n",
    "plt.legend()"
   ]
  },
  {
   "cell_type": "code",
   "execution_count": 128,
   "id": "24c810c4-8dbe-47e3-8bf9-a59bccb6639b",
   "metadata": {},
   "outputs": [],
   "source": [
    "from sklearn.preprocessing import PolynomialFeatures\n",
    "from sklearn.pipeline import Pipeline\n",
    "from sklearn.metrics import mean_squared_error"
   ]
  },
  {
   "cell_type": "code",
   "execution_count": 131,
   "id": "32d586b9-0309-4034-a81a-b7a0e697c2d9",
   "metadata": {},
   "outputs": [],
   "source": [
    "degrees = np.arange(1, 6, 1)\n",
    "rms_train = []\n",
    "rms_test = []\n",
    "coefs = []\n",
    "for deg in degrees:\n",
    "    \n",
    "    # Polynomial model\n",
    "    model = Pipeline([('poly', PolynomialFeatures(degree=deg)),\n",
    "                  ('linear', linear_model.LinearRegression())])\n",
    "    \n",
    "    # Train the model using the training sets\n",
    "    model = model.fit(log_sigma_mu_train, log_re_train)\n",
    "    \n",
    "    # The polynomial coefficients\n",
    "    coefs.append(model.named_steps['linear'].coef_)\n",
    "    \n",
    "    # Mean Squared Error (MSE) \n",
    "    rmstrain = mean_squared_error(log_re_train, model.predict(log_sigma_mu_train))\n",
    "    rmstest = mean_squared_error(log_re_test, model.predict(log_sigma_mu_test))\n",
    "\n",
    "    rms_train.append(rmstrain)\n",
    "    rms_test.append(rmstest)"
   ]
  },
  {
   "cell_type": "code",
   "execution_count": 132,
   "id": "0177f3df-951f-4059-a61c-b16f0e945930",
   "metadata": {},
   "outputs": [
    {
     "data": {
      "text/plain": [
       "(array([0.        , 1.08462841, 0.28830677]),\n",
       " array([ 0.        , -7.65635845,  0.23620489,  0.80283327,  0.25494671,\n",
       "        -0.01395404]),\n",
       " array([ 0.00000000e+00, -1.30339564e+02, -8.78316295e+00,  2.64965604e+01,\n",
       "         6.70000537e+00,  5.23560897e-02, -2.55986729e+00, -4.25000465e-01,\n",
       "        -1.11086707e-01,  3.33638062e-03]),\n",
       " array([ 0.00000000e+00,  1.65043767e+03,  2.28383230e+02, -6.89014290e+02,\n",
       "        -9.35098669e+01, -1.15599771e+01,  1.89755010e+02,  4.21492901e+00,\n",
       "         4.28484875e+00,  2.10575145e-01, -1.47443319e+01, -2.87840606e+00,\n",
       "         4.05461627e-01, -1.04664416e-01,  5.68822486e-04]),\n",
       " array([ 0.00000000e+00, -1.64314671e+04,  3.74901851e+03,  3.92616539e+03,\n",
       "         2.78685494e+03, -5.11932138e+02,  3.19016135e+03, -1.86693858e+03,\n",
       "        -4.47548769e+00,  2.49595164e+01, -3.54760682e+02, -1.36899443e+02,\n",
       "         1.22585137e+02, -9.33422839e+00, -3.32412917e-01, -1.91814912e+00,\n",
       "         1.77048678e+01, -8.63869159e-01, -2.01248889e+00,  2.37307271e-01,\n",
       "        -2.47996561e-03]))"
      ]
     },
     "execution_count": 132,
     "metadata": {},
     "output_type": "execute_result"
    }
   ],
   "source": [
    "coefs[0], coefs[1], coefs[2], coefs[3], coefs[4]"
   ]
  },
  {
   "cell_type": "code",
   "execution_count": 133,
   "id": "91f6df8d-024e-48f2-9f92-1d9325d9251a",
   "metadata": {},
   "outputs": [
    {
     "data": {
      "text/plain": [
       "0.01691226855454263"
      ]
     },
     "execution_count": 133,
     "metadata": {},
     "output_type": "execute_result"
    }
   ],
   "source": [
    "rmstrain"
   ]
  },
  {
   "cell_type": "code",
   "execution_count": 134,
   "id": "2bb74579-e9b8-4e5e-959f-99a29e41e6b4",
   "metadata": {},
   "outputs": [
    {
     "data": {
      "text/plain": [
       "0.2285276554686744"
      ]
     },
     "execution_count": 134,
     "metadata": {},
     "output_type": "execute_result"
    }
   ],
   "source": [
    "rmstest"
   ]
  },
  {
   "cell_type": "code",
   "execution_count": null,
   "id": "ff796448-19f2-41af-8ef8-3566d885e174",
   "metadata": {},
   "outputs": [],
   "source": []
  }
 ],
 "metadata": {
  "kernelspec": {
   "display_name": "Python 3 (ipykernel)",
   "language": "python",
   "name": "python3"
  },
  "language_info": {
   "codemirror_mode": {
    "name": "ipython",
    "version": 3
   },
   "file_extension": ".py",
   "mimetype": "text/x-python",
   "name": "python",
   "nbconvert_exporter": "python",
   "pygments_lexer": "ipython3",
   "version": "3.9.7"
  }
 },
 "nbformat": 4,
 "nbformat_minor": 5
}
